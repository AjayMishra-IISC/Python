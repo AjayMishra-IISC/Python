{
  "nbformat": 4,
  "nbformat_minor": 0,
  "metadata": {
    "colab": {
      "provenance": [],
      "authorship_tag": "ABX9TyOBebLhymD08/mT4C2QCuQB",
      "include_colab_link": true
    },
    "kernelspec": {
      "name": "python3",
      "display_name": "Python 3"
    },
    "language_info": {
      "name": "python"
    }
  },
  "cells": [
    {
      "cell_type": "markdown",
      "metadata": {
        "id": "view-in-github",
        "colab_type": "text"
      },
      "source": [
        "<a href=\"https://colab.research.google.com/github/AjayMishra-IISC/Python/blob/main/Python_03Mar.ipynb\" target=\"_parent\"><img src=\"https://colab.research.google.com/assets/colab-badge.svg\" alt=\"Open In Colab\"/></a>"
      ]
    },
    {
      "cell_type": "code",
      "execution_count": 2,
      "metadata": {
        "id": "_I1Sd1MePoOL"
      },
      "outputs": [],
      "source": [
        "def select(n: int) -> bool:\n",
        "    return n % 3 == 0 or n % 5 ==0\n",
        "\n",
        "def euler001_1(limit: int) -> int:\n",
        "    n, total = 1, 0\n",
        "    while n < limit:\n",
        "        if select(n):\n",
        "            total += n\n",
        "        n +=1\n",
        "    return total"
      ]
    },
    {
      "cell_type": "code",
      "source": [
        "print(euler001_1(100))"
      ],
      "metadata": {
        "colab": {
          "base_uri": "https://localhost:8080/"
        },
        "id": "wUcY1Im4U1Vr",
        "outputId": "799c666a-f19a-43ce-a27d-b2844c2a7b9b"
      },
      "execution_count": 3,
      "outputs": [
        {
          "output_type": "stream",
          "name": "stdout",
          "text": [
            "2318\n"
          ]
        }
      ]
    },
    {
      "cell_type": "code",
      "source": [
        "def euler001_2(limit: int) -> int: #int is type hint for clear reading\n",
        "    total = 0\n",
        "    for n in range(1, limit):\n",
        "        if select(n):\n",
        "            total +=n\n",
        "    return total"
      ],
      "metadata": {
        "id": "fNM3pb35UDtV"
      },
      "execution_count": 4,
      "outputs": []
    },
    {
      "cell_type": "code",
      "source": [
        "print (euler001_2(1000))"
      ],
      "metadata": {
        "colab": {
          "base_uri": "https://localhost:8080/"
        },
        "id": "WjiWlcz8VvJ9",
        "outputId": "0c963027-ffb9-46be-ddd0-4c8cc9d590e0"
      },
      "execution_count": null,
      "outputs": [
        {
          "output_type": "stream",
          "name": "stdout",
          "text": [
            "233168\n"
          ]
        }
      ]
    },
    {
      "cell_type": "code",
      "source": [
        "select(10)"
      ],
      "metadata": {
        "colab": {
          "base_uri": "https://localhost:8080/"
        },
        "id": "S9mLVr8QW_9d",
        "outputId": "d0d54be5-1abb-4114-c74b-197bd38f6fa3"
      },
      "execution_count": null,
      "outputs": [
        {
          "output_type": "execute_result",
          "data": {
            "text/plain": [
              "True"
            ]
          },
          "metadata": {},
          "execution_count": 13
        }
      ]
    },
    {
      "cell_type": "code",
      "source": [
        "def euler001_3(limit: int) ->int:\n",
        "    return sum(range(3, limit, 3)) +\\\n",
        "           sum(range(5, limit, 5)) -\\\n",
        "           sum(range(15, limit, 15))\n"
      ],
      "metadata": {
        "id": "CXof9AaXZc0c"
      },
      "execution_count": null,
      "outputs": []
    },
    {
      "cell_type": "code",
      "source": [
        "print(euler001_3(1000))"
      ],
      "metadata": {
        "colab": {
          "base_uri": "https://localhost:8080/"
        },
        "id": "Ilz8yaiSaSv9",
        "outputId": "a1ac6e6d-e0e6-44f0-aa43-936176179b2f"
      },
      "execution_count": null,
      "outputs": [
        {
          "output_type": "stream",
          "name": "stdout",
          "text": [
            "233168\n"
          ]
        }
      ]
    },
    {
      "cell_type": "code",
      "source": [
        "def multiples(of: int, upto: int) -> range:\n",
        "    return range(of, upto, of)"
      ],
      "metadata": {
        "id": "PG_HUO-Ya-zD"
      },
      "execution_count": null,
      "outputs": []
    },
    {
      "cell_type": "code",
      "source": [
        "def euler001_4(limit: int) -> int:\n",
        "    return sum(set(multiples(3, limit)) | set(multiples(5, limit)))"
      ],
      "metadata": {
        "id": "ADGma3q8cnom"
      },
      "execution_count": null,
      "outputs": []
    },
    {
      "cell_type": "code",
      "source": [
        "print(euler001_4(1000))"
      ],
      "metadata": {
        "colab": {
          "base_uri": "https://localhost:8080/"
        },
        "id": "Qq_lzvY6c9Rv",
        "outputId": "05443d0f-aba6-482e-ad00-507d9742f551"
      },
      "execution_count": null,
      "outputs": [
        {
          "output_type": "stream",
          "name": "stdout",
          "text": [
            "233168\n"
          ]
        }
      ]
    },
    {
      "cell_type": "code",
      "source": [
        "def euler001_5(limit: int) -> int:\n",
        "    return sum(filter(select, range(1, limit)))"
      ],
      "metadata": {
        "id": "xGaGG45xfye8"
      },
      "execution_count": null,
      "outputs": []
    },
    {
      "cell_type": "code",
      "source": [
        "print(euler001_5(1000))"
      ],
      "metadata": {
        "colab": {
          "base_uri": "https://localhost:8080/"
        },
        "id": "0U-hQd5IjQMt",
        "outputId": "defe4ff6-9a94-47d6-f110-b5d7fb037ce2"
      },
      "execution_count": null,
      "outputs": [
        {
          "output_type": "stream",
          "name": "stdout",
          "text": [
            "233168\n"
          ]
        }
      ]
    },
    {
      "cell_type": "code",
      "source": [
        "def euler001_6(limit: int) -> int:\n",
        "    return sum([n for n in range(1, limit) if select(n)])"
      ],
      "metadata": {
        "id": "BmsBaf1XjXK0"
      },
      "execution_count": null,
      "outputs": []
    },
    {
      "cell_type": "code",
      "source": [
        "print(euler001_6(1000))"
      ],
      "metadata": {
        "colab": {
          "base_uri": "https://localhost:8080/"
        },
        "id": "j72zBR_YjtxM",
        "outputId": "034f7491-0cdf-405f-92b4-7e3f0be14db4"
      },
      "execution_count": null,
      "outputs": [
        {
          "output_type": "stream",
          "name": "stdout",
          "text": [
            "233168\n"
          ]
        }
      ]
    },
    {
      "cell_type": "code",
      "source": [
        "def alpha(n):\n",
        "    r = 0\n",
        "    while r * r * r < n:\n",
        "        r += 1\n",
        "    return r * r * r == n"
      ],
      "metadata": {
        "id": "YU_xdGcPtwuy"
      },
      "execution_count": null,
      "outputs": []
    },
    {
      "cell_type": "code",
      "source": [
        "def is_perfect_cube(n: int) -> bool:\n",
        "    r = 0\n",
        "    while r * r * r < n:\n",
        "        r += 1\n",
        "    return r * r * r == n"
      ],
      "metadata": {
        "id": "38eNWyRhvZOj"
      },
      "execution_count": null,
      "outputs": []
    },
    {
      "cell_type": "code",
      "source": [
        "def is_power2(n: int) -> bool:\n",
        "    r = 0\n",
        "    while 2 ** r < n:\n",
        "        r += 1\n",
        "    return 2 ** r == n"
      ],
      "metadata": {
        "id": "jl4Cozonvmnx"
      },
      "execution_count": null,
      "outputs": []
    },
    {
      "cell_type": "code",
      "source": [
        "def inv(f, n: int) -> bool:\n",
        "    r = 0\n",
        "    while f(r) < n:\n",
        "        r += 1\n",
        "    return f(r) == n"
      ],
      "metadata": {
        "id": "Q0rti-f5wLCT"
      },
      "execution_count": null,
      "outputs": []
    },
    {
      "cell_type": "code",
      "source": [
        "def power3(n: int) -> int:\n",
        "    return 3 ** n"
      ],
      "metadata": {
        "id": "eSkiu6RCx7pj"
      },
      "execution_count": null,
      "outputs": []
    },
    {
      "cell_type": "code",
      "source": [
        "def is_power3(n: int) -> bool:\n",
        "    return inv(power3, n)"
      ],
      "metadata": {
        "id": "CSf2Yu8SyDip"
      },
      "execution_count": null,
      "outputs": []
    },
    {
      "cell_type": "code",
      "source": [
        "def square(n: int) -> int:\n",
        "    return n * n\n",
        "def is_perfect_square(n: int) -> bool:\n",
        "    return inv(square, n)"
      ],
      "metadata": {
        "id": "RJkz9sm5yaMx"
      },
      "execution_count": null,
      "outputs": []
    },
    {
      "cell_type": "code",
      "source": [
        "is_power3(81)"
      ],
      "metadata": {
        "colab": {
          "base_uri": "https://localhost:8080/"
        },
        "id": "X4Af5PMdyseL",
        "outputId": "9c28c82c-dc6a-475c-9a08-8c5aa3cf8e84"
      },
      "execution_count": null,
      "outputs": [
        {
          "output_type": "execute_result",
          "data": {
            "text/plain": [
              "True"
            ]
          },
          "metadata": {},
          "execution_count": 38
        }
      ]
    },
    {
      "cell_type": "code",
      "source": [
        "is_power3(100)"
      ],
      "metadata": {
        "colab": {
          "base_uri": "https://localhost:8080/"
        },
        "id": "YeBB8iY6y1pj",
        "outputId": "d199a48a-f41d-41fd-bc6e-af02368e045b"
      },
      "execution_count": null,
      "outputs": [
        {
          "output_type": "execute_result",
          "data": {
            "text/plain": [
              "False"
            ]
          },
          "metadata": {},
          "execution_count": 37
        }
      ]
    },
    {
      "cell_type": "code",
      "source": [
        "def is_perf_cube(n: int) -> bool:\n",
        "    return inv(lambda x: x * x * x, n)"
      ],
      "metadata": {
        "id": "ihQcXmqA0LCB"
      },
      "execution_count": null,
      "outputs": []
    },
    {
      "cell_type": "code",
      "source": [
        "is_perfect_cube(27)"
      ],
      "metadata": {
        "colab": {
          "base_uri": "https://localhost:8080/"
        },
        "id": "6q8gtav60hD4",
        "outputId": "70485355-95b9-4747-c0d2-6dff06058c44"
      },
      "execution_count": null,
      "outputs": [
        {
          "output_type": "execute_result",
          "data": {
            "text/plain": [
              "True"
            ]
          },
          "metadata": {},
          "execution_count": 40
        }
      ]
    },
    {
      "cell_type": "code",
      "source": [
        "is_perfect_cube(45)"
      ],
      "metadata": {
        "colab": {
          "base_uri": "https://localhost:8080/"
        },
        "id": "bM7W_Yg80l9w",
        "outputId": "fde2da59-53c0-4ca7-dc75-f44f07e87e87"
      },
      "execution_count": null,
      "outputs": [
        {
          "output_type": "execute_result",
          "data": {
            "text/plain": [
              "False"
            ]
          },
          "metadata": {},
          "execution_count": 41
        }
      ]
    },
    {
      "cell_type": "code",
      "source": [
        "square = lambda k: k* k\n",
        "even = lambda p: p % 2 == 0"
      ],
      "metadata": {
        "id": "I4nChzV40pTY"
      },
      "execution_count": null,
      "outputs": []
    },
    {
      "cell_type": "code",
      "source": [
        "print (list(map(square, range(10))))\n",
        "squares = []\n",
        "for i in range(10):\n",
        "    squares.append(square(i))\n",
        "print(squares)\n",
        "print([square(x) for x in range(10)])"
      ],
      "metadata": {
        "colab": {
          "base_uri": "https://localhost:8080/"
        },
        "id": "ZocOTXvGb38O",
        "outputId": "d8251d5a-3560-48f8-849d-5ef34c3f24ba"
      },
      "execution_count": null,
      "outputs": [
        {
          "output_type": "stream",
          "name": "stdout",
          "text": [
            "[0, 1, 4, 9, 16, 25, 36, 49, 64, 81]\n",
            "[0, 1, 4, 9, 16, 25, 36, 49, 64, 81]\n",
            "[0, 1, 4, 9, 16, 25, 36, 49, 64, 81]\n"
          ]
        }
      ]
    },
    {
      "cell_type": "code",
      "source": [
        "print(list(filter(even, range(10))))\n",
        "evens = []\n",
        "for j in range (10):\n",
        "    if even(j):\n",
        "        evens.append(j)\n",
        "print(evens)\n",
        "print([x for x in range(10) if even(x)])"
      ],
      "metadata": {
        "colab": {
          "base_uri": "https://localhost:8080/"
        },
        "id": "tw1Wp49GcYhu",
        "outputId": "d15ce657-a495-406e-9e42-ebd0ccfc7a32"
      },
      "execution_count": null,
      "outputs": [
        {
          "output_type": "stream",
          "name": "stdout",
          "text": [
            "[0, 2, 4, 6, 8]\n",
            "[0, 2, 4, 6, 8]\n",
            "[0, 2, 4, 6, 8]\n"
          ]
        }
      ]
    },
    {
      "cell_type": "code",
      "source": [
        "def euler003(n: int) -> int:\n",
        "    return max(factorize(n))\n",
        "\n",
        "def factorize(n: int) -> list[int]:\n",
        "    factors = []\n",
        "    while n % 2 == 0:\n",
        "        factors.append(2)\n",
        "        n //=2\n",
        "    r = 3\n",
        "    while n > 1:\n",
        "        while n % r == 0:\n",
        "            factors.append(r)\n",
        "            n //=r\n",
        "            print(n, factors)\n",
        "        r += 2\n",
        "    return factors"
      ],
      "metadata": {
        "id": "Xy3GRpMxiNP-"
      },
      "execution_count": null,
      "outputs": []
    },
    {
      "cell_type": "code",
      "source": [
        "factorize(13195)"
      ],
      "metadata": {
        "colab": {
          "base_uri": "https://localhost:8080/"
        },
        "id": "4ad048JVjSK-",
        "outputId": "37bfa3e8-bba6-46e0-dded-5e5095590d37"
      },
      "execution_count": null,
      "outputs": [
        {
          "output_type": "stream",
          "name": "stdout",
          "text": [
            "2639 [5]\n",
            "377 [5, 7]\n",
            "29 [5, 7, 13]\n",
            "1 [5, 7, 13, 29]\n"
          ]
        },
        {
          "output_type": "execute_result",
          "data": {
            "text/plain": [
              "[5, 7, 13, 29]"
            ]
          },
          "metadata": {},
          "execution_count": 9
        }
      ]
    },
    {
      "cell_type": "code",
      "source": [
        "def num_to_digits(n: int) -> list[int]:\n",
        "    return [int(ch) for ch in str(n)]"
      ],
      "metadata": {
        "id": "uxfDOCAsqa-c"
      },
      "execution_count": null,
      "outputs": []
    },
    {
      "cell_type": "code",
      "source": [
        "num_to_digits(1729)"
      ],
      "metadata": {
        "colab": {
          "base_uri": "https://localhost:8080/"
        },
        "id": "zzBr8lqNrPCF",
        "outputId": "cce1c156-0f1f-4392-83c5-4639f33b5f9b"
      },
      "execution_count": null,
      "outputs": [
        {
          "output_type": "execute_result",
          "data": {
            "text/plain": [
              "[1, 7, 2, 9]"
            ]
          },
          "metadata": {},
          "execution_count": 13
        }
      ]
    },
    {
      "cell_type": "code",
      "source": [
        "def digits_to_num(ds: list[int]) -> int:\n",
        "    if len(ds) == 1:\n",
        "        return ds[-1]\n",
        "    elif len(ds) > 1:\n",
        "        return ds[-1] + 10 * digits_to_num(ds[:-1])"
      ],
      "metadata": {
        "id": "mlh2S4MmrY4o"
      },
      "execution_count": null,
      "outputs": []
    },
    {
      "cell_type": "code",
      "source": [
        "digits_to_num([1, 7,2, 9, 5, 1])"
      ],
      "metadata": {
        "colab": {
          "base_uri": "https://localhost:8080/"
        },
        "id": "_OSZUUIIuw58",
        "outputId": "52e5244a-3138-4c7e-f722-57df6bb48088"
      },
      "execution_count": null,
      "outputs": [
        {
          "output_type": "execute_result",
          "data": {
            "text/plain": [
              "172951"
            ]
          },
          "metadata": {},
          "execution_count": 24
        }
      ]
    },
    {
      "cell_type": "code",
      "source": [
        "def largest(n: int) -> int:\n",
        "    return digits_to_num(sorted(num_to_digits(n), reverse=True))\n",
        "\n",
        "def smallest(n: int) -> int:\n",
        "    return digits_to_num(sorted(num_to_digits(n)))"
      ],
      "metadata": {
        "id": "SHaaFQESrrIM"
      },
      "execution_count": null,
      "outputs": []
    },
    {
      "cell_type": "code",
      "source": [
        "def next_kap(n: int) -> int:\n",
        "    return largest(n) - smallest(n)"
      ],
      "metadata": {
        "id": "0vsHR4x5sGJz"
      },
      "execution_count": null,
      "outputs": []
    },
    {
      "cell_type": "code",
      "source": [
        "def kap_seq(n: int) -> list[int]:\n",
        "    seq = []\n",
        "    while n not in seq:\n",
        "        seq.append(n)\n",
        "        n = next_kap(n)\n",
        "    return seq\n"
      ],
      "metadata": {
        "id": "xq1PO2fIsQK8"
      },
      "execution_count": null,
      "outputs": []
    },
    {
      "cell_type": "code",
      "source": [
        "print(kap_seq(1729))"
      ],
      "metadata": {
        "colab": {
          "base_uri": "https://localhost:8080/"
        },
        "id": "TeZDHQZQs4dz",
        "outputId": "9ea6ecaa-3918-4bf6-a922-664011013365"
      },
      "execution_count": null,
      "outputs": [
        {
          "output_type": "stream",
          "name": "stdout",
          "text": [
            "[1729, 8442, 5994, 5355, 1998, 8082, 8532, 6174]\n"
          ]
        }
      ]
    }
  ]
}